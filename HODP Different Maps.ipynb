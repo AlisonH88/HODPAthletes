{
 "cells": [
  {
   "cell_type": "code",
   "execution_count": 4,
   "metadata": {},
   "outputs": [
    {
     "name": "stdout",
     "output_type": "stream",
     "text": [
      "Dorchester, Mass.\n",
      "[43, 70, 74, 77, 167, 204, 216, 220, 279, 360, 444, 452, 455, 456, 458, 497, 515, 541, 548, 620, 632, 639, 673, 675, 682, 699, 702, 759, 769, 779, 822, 863, 909, 992, 993, 1003, 1030]\n",
      "[73]\n",
      "[121, 568, 714]\n",
      "[8, 57, 107, 157, 163, 206, 244, 245, 254, 256, 284, 317, 334, 339, 340, 424, 436, 466, 471, 476, 494, 519, 553, 580, 595, 600, 631, 648, 667, 670, 830, 847, 927, 946, 947, 948, 1049]\n",
      "[474, 598]\n",
      "[662]\n",
      "[732]\n",
      "[967]\n"
     ]
    }
   ],
   "source": [
    "import numpy as np\n",
    "import pandas as pd\n",
    "import geopy as gp\n",
    "from geopy.geocoders import Nominatim\n",
    "from geopy.exc import GeocoderTimedOut\n",
    "\n",
    "geolocator = Nominatim(user_agent=\"hello\")\n",
    "df = pd.read_csv('HODP Athlete Project - All Athletes.csv', index_col = 0)\n",
    "df = df[pd.notnull(df['Hometown'])]\n",
    "df = df.reset_index()\n",
    "df.drop(columns = ['Unnamed: 8'])\n",
    "df.head()\n",
    "print(df.iloc[0].Hometown)\n",
    "\n",
    "def do_geocode(address):\n",
    "    try:\n",
    "        return geolocator.geocode(address)\n",
    "    except GeocoderTimedOut:\n",
    "        return do_geocode(address)\n",
    "    \n",
    "\n",
    "# Cleaner function\n",
    "def cleaner(old, new):\n",
    "    lst = [] \n",
    "    for i, row in df.iterrows():\n",
    "        if old in row[\"Hometown\"]:\n",
    "            lst.append(i)\n",
    "\n",
    "    print(lst)\n",
    "    for i in lst:\n",
    "        df.iloc[i][\"Hometown\"] = df.iloc[i][\"Hometown\"].replace(old, new)\n",
    "        \n",
    "cleaner(\"Ill.\", \"Illinois\")\n",
    "cleaner(\"Neb.\", \"Nebraska\")\n",
    "cleaner(\"Wisc.\", \"Wisconsin\")\n",
    "cleaner(\"Fla\", \"Florida\")\n",
    "cleaner(\"Coquitlan\", \"Coquitlam\")\n",
    "cleaner(\"Pozos de Santa\", \"Pozos\")\n",
    "cleaner(\"Cutchouge\", \"Cutchogue\")\n",
    "cleaner(\"Edgarton\", \"Edgartown\")"
   ]
  },
  {
   "cell_type": "code",
   "execution_count": null,
   "metadata": {},
   "outputs": [
    {
     "name": "stdout",
     "output_type": "stream",
     "text": [
      "Collecting geopy\r\n"
     ]
    }
   ],
   "source": []
  },
  {
   "cell_type": "code",
   "execution_count": null,
   "metadata": {},
   "outputs": [],
   "source": []
  }
 ],
 "metadata": {
  "kernelspec": {
   "display_name": "Python 3",
   "language": "python",
   "name": "python3"
  },
  "language_info": {
   "codemirror_mode": {
    "name": "ipython",
    "version": 3
   },
   "file_extension": ".py",
   "mimetype": "text/x-python",
   "name": "python",
   "nbconvert_exporter": "python",
   "pygments_lexer": "ipython3",
   "version": "3.7.3"
  }
 },
 "nbformat": 4,
 "nbformat_minor": 2
}

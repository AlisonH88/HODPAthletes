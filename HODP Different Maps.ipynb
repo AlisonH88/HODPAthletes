{
 "cells": [
  {
   "cell_type": "code",
   "execution_count": null,
   "metadata": {},
   "outputs": [],
   "source": [
    "import numpy as np\n",
    "import pandas as pd\n",
    "import geopy as gp\n",
    "from geopy.geocoders import Nominatim\n",
    "from geopy.exc import GeocoderTimedOut\n",
    "\n",
    "geolocator = Nominatim(user_agent=\"hello\")\n",
    "df = pd.read_csv('HODP Athlete Project - All Athletes.csv', index_col = 0)\n",
    "df = df[pd.notnull(df['Hometown'])]\n",
    "df = df.reset_index()\n",
    "df.drop(columns = ['Unnamed: 8'])\n",
    "df.head()\n",
    "print(df.iloc[0].Hometown)\n",
    "\n",
    "def do_geocode(address):\n",
    "    try:\n",
    "        return geolocator.geocode(address)\n",
    "    except GeocoderTimedOut:\n",
    "        return do_geocode(address)\n",
    "    \n",
    "\n",
    "# Cleaner function\n",
    "def cleaner(old, new):\n",
    "    lst = [] \n",
    "    for i, row in df.iterrows():\n",
    "        if old in row[\"Hometown\"]:\n",
    "            lst.append(i)\n",
    "\n",
    "    print(lst)\n",
    "    for i in lst:\n",
    "        df.iloc[i][\"Hometown\"] = df.iloc[i][\"Hometown\"].replace(old, new)\n",
    "        \n",
    "cleaner(\"Ill.\", \"Illinois\")\n",
    "cleaner(\"Neb.\", \"Nebraska\")\n",
    "cleaner(\"Wisc.\", \"Wisconsin\")\n",
    "cleaner(\"Fla\", \"Florida\")\n",
    "cleaner(\"Coquitlan\", \"Coquitlam\")\n",
    "cleaner(\"Pozos de Santa\", \"Pozos\")\n",
    "cleaner(\"Cutchouge\", \"Cutchogue\")\n",
    "cleaner(\"Edgarton\", \"Edgartown\")"
   ]
  }
 ],
 "metadata": {
  "kernelspec": {
   "display_name": "Python 3",
   "language": "python",
   "name": "python3"
  },
  "language_info": {
   "codemirror_mode": {
    "name": "ipython",
    "version": 3
   },
   "file_extension": ".py",
   "mimetype": "text/x-python",
   "name": "python",
   "nbconvert_exporter": "python",
   "pygments_lexer": "ipython3",
   "version": "3.7.4"
  }
 },
 "nbformat": 4,
 "nbformat_minor": 2
}
